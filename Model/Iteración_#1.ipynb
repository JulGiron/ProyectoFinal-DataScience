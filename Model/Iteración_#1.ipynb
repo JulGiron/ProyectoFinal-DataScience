{
 "cells": [
  {
   "cell_type": "markdown",
   "id": "c470f947",
   "metadata": {},
   "source": [
    "# Iteración 1 - Modelo Simple con IV >= 0.02 (sin dummies)"
   ]
  }
 ],
 "metadata": {
  "language_info": {
   "name": "python"
  }
 },
 "nbformat": 4,
 "nbformat_minor": 5
}
